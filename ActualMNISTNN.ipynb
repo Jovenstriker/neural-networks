{
  "nbformat": 4,
  "nbformat_minor": 0,
  "metadata": {
    "colab": {
      "provenance": [],
      "authorship_tag": "ABX9TyOG2n8hAwe1nA7asrY46mfB",
      "include_colab_link": true
    },
    "kernelspec": {
      "name": "python3",
      "display_name": "Python 3"
    },
    "language_info": {
      "name": "python"
    }
  },
  "cells": [
    {
      "cell_type": "markdown",
      "metadata": {
        "id": "view-in-github",
        "colab_type": "text"
      },
      "source": [
        "<a href=\"https://colab.research.google.com/github/Jovenstriker/neural-networks/blob/main/ActualMNISTNN.ipynb\" target=\"_parent\"><img src=\"https://colab.research.google.com/assets/colab-badge.svg\" alt=\"Open In Colab\"/></a>"
      ]
    },
    {
      "cell_type": "code",
      "execution_count": null,
      "metadata": {
        "id": "oSk7yrieDyTJ"
      },
      "outputs": [],
      "source": [
        "import numpy as np\n",
        "\n"
      ]
    },
    {
      "cell_type": "code",
      "source": [
        "def sig(x):\n",
        "  return 1/(1+np.exp(-x))\n",
        "def sigDerv(x):\n",
        "  return sig(x)*(1-sig(x))\n",
        "\n",
        "def cost(actual,predicted):\n",
        "  return np.average((actual-predicted)**2)\n",
        "def costDerv(actual,predicted):\n",
        "  return 2*(predicted-actual)/predicted.size"
      ],
      "metadata": {
        "id": "JFfVYE7cGKYZ"
      },
      "execution_count": null,
      "outputs": []
    },
    {
      "cell_type": "code",
      "source": [
        "from keras.datasets import mnist\n",
        "# from keras.utils import np_utils\n",
        "import keras.utils\n",
        "# load MNIST from server\n",
        "(x_train, y_train), (x_test, y_test) = mnist.load_data()\n",
        "\n",
        "# training data : 60000 samples\n",
        "# reshape and normalize input data\n",
        "x_train = x_train.reshape(x_train.shape[0], 1, 28*28)\n",
        "x_train = x_train.astype('float32')\n",
        "x_train /= 255\n",
        "# encode output which is a number in range [0,9] into a vector of size 10\n",
        "# e.g. number 3 will become [0, 0, 0, 1, 0, 0, 0, 0, 0, 0]\n",
        "y_train = keras.utils.to_categorical(y_train)\n",
        "\n",
        "# same for test data : 10000 samples\n",
        "x_test = x_test.reshape(x_test.shape[0], 1, 28*28)\n",
        "x_test = x_test.astype('float32')\n",
        "x_test /= 255\n",
        "y_test = keras.utils.to_categorical(y_test)\n",
        "\n",
        "print(y_test.size)\n",
        "print(x_test.size)"
      ],
      "metadata": {
        "colab": {
          "base_uri": "https://localhost:8080/"
        },
        "id": "M6e24HaiIy2t",
        "outputId": "05794562-2cc9-4860-9215-334b07d54cf0"
      },
      "execution_count": null,
      "outputs": [
        {
          "output_type": "stream",
          "name": "stdout",
          "text": [
            "Downloading data from https://storage.googleapis.com/tensorflow/tf-keras-datasets/mnist.npz\n",
            "\u001b[1m11490434/11490434\u001b[0m \u001b[32m━━━━━━━━━━━━━━━━━━━━\u001b[0m\u001b[37m\u001b[0m \u001b[1m0s\u001b[0m 0us/step\n",
            "100000\n",
            "7840000\n"
          ]
        }
      ]
    },
    {
      "cell_type": "code",
      "source": [
        "print(y_train)"
      ],
      "metadata": {
        "colab": {
          "base_uri": "https://localhost:8080/"
        },
        "id": "kd4RvMh0iK1u",
        "outputId": "583701d5-6fdb-4224-80c1-44452711b1e4"
      },
      "execution_count": null,
      "outputs": [
        {
          "output_type": "stream",
          "name": "stdout",
          "text": [
            "[[0. 0. 0. ... 0. 0. 0.]\n",
            " [1. 0. 0. ... 0. 0. 0.]\n",
            " [0. 0. 0. ... 0. 0. 0.]\n",
            " ...\n",
            " [0. 0. 0. ... 0. 0. 0.]\n",
            " [0. 0. 0. ... 0. 0. 0.]\n",
            " [0. 0. 0. ... 0. 1. 0.]]\n"
          ]
        }
      ]
    },
    {
      "cell_type": "code",
      "source": [
        "class NeuralNetwork:\n",
        "  def __init__(self):\n",
        "    self.layers = []\n",
        "\n",
        "  def add(self,layer):\n",
        "    self.layers.append(layer)\n",
        "\n",
        "  def train(self, input, actualOutput, trials):\n",
        "\n",
        "    trialNumber = 0\n",
        "    for x in range(trials): #Goes through each trial of practice\n",
        "      success = 0\n",
        "      total = 0\n",
        "      for y in range(len(input)):\n",
        "        output = input[y] #Technically first input (it's the data of the drawing)\n",
        "        for z in self.layers:\n",
        "          output = z.forward(output) #Goes through the layers, getting an successful (?) prediction\n",
        "        error = costDerv(actualOutput[y],output)\n",
        "        if (actualOutput[y].argmax()==output.argmax()): #Success counter\n",
        "          success+=1\n",
        "        total+=1\n",
        "        for z in reversed(self.layers): #Backward propagation\n",
        "          error = z.backward(error)\n",
        "      trialNumber+=1\n",
        "      if(total==0):\n",
        "        print(\"Invalid, division by zero| Successes \" + str(success))\n",
        "      else:\n",
        "        print(\"Trial: \"+ str(trialNumber)+\"|\"+ str(success) + \"/\" + str(total) + \"|Percentage:\" +str(round(success/total,3))) #Success calculator\n",
        "\n",
        "\n"
      ],
      "metadata": {
        "id": "1ltLBYwFHMaL"
      },
      "execution_count": null,
      "outputs": []
    },
    {
      "cell_type": "code",
      "source": [
        "class layer:\n",
        "  def __init__(self,inputSize,outputSize): #i is input size, o is output size\n",
        "    self.weights = np.random.rand(inputSize, outputSize) #Creates a i by o array of weights, the (0,2) represent connectetions between 3rd top neuron and next top neuron, etc\n",
        "    self.bias = np.random.rand(1,outputSize) #Creates a 1 by o array of random biases [0,0.23,0.64,...]\n",
        "  def forward(self,inputData):\n",
        "    self.input = inputData\n",
        "    self.output = sig(np.dot(self.input, self.weights) +self.bias) #self.output is an o by 1 array of outputs, activated by sig function\n",
        "    return self.output\n",
        "  def backward(self,outputError): #Output error is the gradient descent recursively given\n",
        "    inputError = np.dot(outputError,self.weights.T)\n",
        "    weightError = np.dot(self.input.T,outputError)\n",
        "    self.weights -= weightError*.1\n",
        "    self.bias -= outputError*.1\n",
        "    return inputError*sigDerv(self.input) #returns the gradient descent deactivated of sig by chain rule"
      ],
      "metadata": {
        "id": "XJbgspkjD3oe"
      },
      "execution_count": null,
      "outputs": []
    },
    {
      "cell_type": "code",
      "source": [
        "\n",
        "print(x_train.shape)\n",
        "print(y_train.shape)"
      ],
      "metadata": {
        "colab": {
          "base_uri": "https://localhost:8080/"
        },
        "id": "ZOrza_k4HHtA",
        "outputId": "c2a5e925-7383-4931-e19c-14ff4c68dd69"
      },
      "execution_count": null,
      "outputs": [
        {
          "output_type": "stream",
          "name": "stdout",
          "text": [
            "(60000, 1, 784)\n",
            "(60000, 10)\n"
          ]
        }
      ]
    },
    {
      "cell_type": "code",
      "source": [
        "net = NeuralNetwork()\n",
        "net.add(layer(28*28,100))\n",
        "net.add(layer(100,50))\n",
        "\n",
        "net.add(layer(50,10))\n",
        "# net.train(x_train[1000:2000], y_train[1000:2000], 75) #training the network\n",
        "print(len(x_train[1000:2000]))\n",
        "# print(\"Network is now trained\")\n",
        "for a in range(100):\n",
        "  randomX = np.random.randint(0,58999)\n",
        "  print(\"Test \" + str(a))\n",
        "  net.train(x_train[randomX:randomX+1000], y_train[randomX:randomX+1000],1) #Testing the output\n"
      ],
      "metadata": {
        "colab": {
          "base_uri": "https://localhost:8080/",
          "height": 1000
        },
        "id": "Xxb-si_EI3SS",
        "outputId": "bbe1153f-20d2-43f3-e7d6-b61b643f155d"
      },
      "execution_count": null,
      "outputs": [
        {
          "output_type": "stream",
          "name": "stdout",
          "text": [
            "1000\n",
            "Test 0\n",
            "Trial: 1|91/1000|Percentage:0.091\n",
            "Test 1\n",
            "Trial: 1|94/1000|Percentage:0.094\n",
            "Test 2\n",
            "Trial: 1|167/1000|Percentage:0.167\n",
            "Test 3\n",
            "Trial: 1|343/1000|Percentage:0.343\n",
            "Test 4\n",
            "Trial: 1|455/1000|Percentage:0.455\n",
            "Test 5\n",
            "Trial: 1|571/1000|Percentage:0.571\n",
            "Test 6\n",
            "Trial: 1|672/1000|Percentage:0.672\n",
            "Test 7\n",
            "Trial: 1|742/1000|Percentage:0.742\n",
            "Test 8\n",
            "Trial: 1|702/1000|Percentage:0.702\n",
            "Test 9\n",
            "Trial: 1|735/1000|Percentage:0.735\n",
            "Test 10\n",
            "Trial: 1|765/1000|Percentage:0.765\n",
            "Test 11\n",
            "Trial: 1|817/1000|Percentage:0.817\n",
            "Test 12\n",
            "Trial: 1|801/1000|Percentage:0.801\n",
            "Test 13\n",
            "Trial: 1|819/1000|Percentage:0.819\n",
            "Test 14\n",
            "Trial: 1|792/1000|Percentage:0.792\n",
            "Test 15\n",
            "Trial: 1|823/1000|Percentage:0.823\n",
            "Test 16\n",
            "Trial: 1|848/1000|Percentage:0.848\n",
            "Test 17\n",
            "Trial: 1|845/1000|Percentage:0.845\n",
            "Test 18\n",
            "Trial: 1|809/1000|Percentage:0.809\n",
            "Test 19\n",
            "Trial: 1|867/1000|Percentage:0.867\n",
            "Test 20\n",
            "Trial: 1|849/1000|Percentage:0.849\n",
            "Test 21\n",
            "Trial: 1|869/1000|Percentage:0.869\n",
            "Test 22\n",
            "Trial: 1|817/1000|Percentage:0.817\n",
            "Test 23\n",
            "Trial: 1|858/1000|Percentage:0.858\n",
            "Test 24\n",
            "Trial: 1|857/1000|Percentage:0.857\n",
            "Test 25\n",
            "Trial: 1|868/1000|Percentage:0.868\n",
            "Test 26\n",
            "Trial: 1|876/1000|Percentage:0.876\n",
            "Test 27\n",
            "Trial: 1|847/1000|Percentage:0.847\n",
            "Test 28\n",
            "Trial: 1|876/1000|Percentage:0.876\n",
            "Test 29\n",
            "Trial: 1|877/1000|Percentage:0.877\n",
            "Test 30\n",
            "Trial: 1|842/1000|Percentage:0.842\n",
            "Test 31\n",
            "Trial: 1|879/1000|Percentage:0.879\n",
            "Test 32\n",
            "Trial: 1|884/1000|Percentage:0.884\n",
            "Test 33\n",
            "Trial: 1|865/1000|Percentage:0.865\n",
            "Test 34\n",
            "Trial: 1|891/1000|Percentage:0.891\n",
            "Test 35\n",
            "Trial: 1|855/1000|Percentage:0.855\n",
            "Test 36\n",
            "Trial: 1|915/1000|Percentage:0.915\n",
            "Test 37\n",
            "Trial: 1|899/1000|Percentage:0.899\n",
            "Test 38\n",
            "Trial: 1|863/1000|Percentage:0.863\n",
            "Test 39\n",
            "Trial: 1|847/1000|Percentage:0.847\n",
            "Test 40\n",
            "Trial: 1|906/1000|Percentage:0.906\n",
            "Test 41\n",
            "Trial: 1|889/1000|Percentage:0.889\n",
            "Test 42\n",
            "Trial: 1|874/1000|Percentage:0.874\n",
            "Test 43\n",
            "Trial: 1|889/1000|Percentage:0.889\n",
            "Test 44\n",
            "Trial: 1|884/1000|Percentage:0.884\n",
            "Test 45\n",
            "Trial: 1|900/1000|Percentage:0.9\n",
            "Test 46\n",
            "Trial: 1|886/1000|Percentage:0.886\n",
            "Test 47\n",
            "Trial: 1|899/1000|Percentage:0.899\n",
            "Test 48\n",
            "Trial: 1|894/1000|Percentage:0.894\n",
            "Test 49\n",
            "Trial: 1|888/1000|Percentage:0.888\n",
            "Test 50\n",
            "Trial: 1|937/1000|Percentage:0.937\n",
            "Test 51\n",
            "Trial: 1|872/1000|Percentage:0.872\n",
            "Test 52\n",
            "Trial: 1|854/1000|Percentage:0.854\n",
            "Test 53\n",
            "Trial: 1|876/1000|Percentage:0.876\n",
            "Test 54\n",
            "Trial: 1|851/1000|Percentage:0.851\n",
            "Test 55\n",
            "Trial: 1|896/1000|Percentage:0.896\n",
            "Test 56\n",
            "Trial: 1|918/1000|Percentage:0.918\n",
            "Test 57\n",
            "Trial: 1|863/1000|Percentage:0.863\n",
            "Test 58\n",
            "Trial: 1|841/1000|Percentage:0.841\n",
            "Test 59\n",
            "Trial: 1|845/1000|Percentage:0.845\n",
            "Test 60\n",
            "Trial: 1|858/1000|Percentage:0.858\n",
            "Test 61\n",
            "Trial: 1|844/1000|Percentage:0.844\n",
            "Test 62\n",
            "Trial: 1|901/1000|Percentage:0.901\n",
            "Test 63\n"
          ]
        },
        {
          "output_type": "error",
          "ename": "KeyboardInterrupt",
          "evalue": "",
          "traceback": [
            "\u001b[0;31m---------------------------------------------------------------------------\u001b[0m",
            "\u001b[0;31mKeyboardInterrupt\u001b[0m                         Traceback (most recent call last)",
            "\u001b[0;32m<ipython-input-7-076e15cf5b7d>\u001b[0m in \u001b[0;36m<cell line: 9>\u001b[0;34m()\u001b[0m\n\u001b[1;32m     10\u001b[0m   \u001b[0mrandomX\u001b[0m \u001b[0;34m=\u001b[0m \u001b[0mnp\u001b[0m\u001b[0;34m.\u001b[0m\u001b[0mrandom\u001b[0m\u001b[0;34m.\u001b[0m\u001b[0mrandint\u001b[0m\u001b[0;34m(\u001b[0m\u001b[0;36m0\u001b[0m\u001b[0;34m,\u001b[0m\u001b[0;36m58999\u001b[0m\u001b[0;34m)\u001b[0m\u001b[0;34m\u001b[0m\u001b[0;34m\u001b[0m\u001b[0m\n\u001b[1;32m     11\u001b[0m   \u001b[0mprint\u001b[0m\u001b[0;34m(\u001b[0m\u001b[0;34m\"Test \"\u001b[0m \u001b[0;34m+\u001b[0m \u001b[0mstr\u001b[0m\u001b[0;34m(\u001b[0m\u001b[0ma\u001b[0m\u001b[0;34m)\u001b[0m\u001b[0;34m)\u001b[0m\u001b[0;34m\u001b[0m\u001b[0;34m\u001b[0m\u001b[0m\n\u001b[0;32m---> 12\u001b[0;31m   \u001b[0mnet\u001b[0m\u001b[0;34m.\u001b[0m\u001b[0mtrain\u001b[0m\u001b[0;34m(\u001b[0m\u001b[0mx_train\u001b[0m\u001b[0;34m[\u001b[0m\u001b[0mrandomX\u001b[0m\u001b[0;34m:\u001b[0m\u001b[0mrandomX\u001b[0m\u001b[0;34m+\u001b[0m\u001b[0;36m1000\u001b[0m\u001b[0;34m]\u001b[0m\u001b[0;34m,\u001b[0m \u001b[0my_train\u001b[0m\u001b[0;34m[\u001b[0m\u001b[0mrandomX\u001b[0m\u001b[0;34m:\u001b[0m\u001b[0mrandomX\u001b[0m\u001b[0;34m+\u001b[0m\u001b[0;36m1000\u001b[0m\u001b[0;34m]\u001b[0m\u001b[0;34m,\u001b[0m\u001b[0;36m1\u001b[0m\u001b[0;34m)\u001b[0m \u001b[0;31m#Testing the output\u001b[0m\u001b[0;34m\u001b[0m\u001b[0;34m\u001b[0m\u001b[0m\n\u001b[0m",
            "\u001b[0;32m<ipython-input-4-2fba00b0c6ea>\u001b[0m in \u001b[0;36mtrain\u001b[0;34m(self, input, actualOutput, trials)\u001b[0m\n\u001b[1;32m     15\u001b[0m         \u001b[0moutput\u001b[0m \u001b[0;34m=\u001b[0m \u001b[0minput\u001b[0m\u001b[0;34m[\u001b[0m\u001b[0my\u001b[0m\u001b[0;34m]\u001b[0m \u001b[0;31m#Technically first input (it's the data of the drawing)\u001b[0m\u001b[0;34m\u001b[0m\u001b[0;34m\u001b[0m\u001b[0m\n\u001b[1;32m     16\u001b[0m         \u001b[0;32mfor\u001b[0m \u001b[0mz\u001b[0m \u001b[0;32min\u001b[0m \u001b[0mself\u001b[0m\u001b[0;34m.\u001b[0m\u001b[0mlayers\u001b[0m\u001b[0;34m:\u001b[0m\u001b[0;34m\u001b[0m\u001b[0;34m\u001b[0m\u001b[0m\n\u001b[0;32m---> 17\u001b[0;31m           \u001b[0moutput\u001b[0m \u001b[0;34m=\u001b[0m \u001b[0mz\u001b[0m\u001b[0;34m.\u001b[0m\u001b[0mforward\u001b[0m\u001b[0;34m(\u001b[0m\u001b[0moutput\u001b[0m\u001b[0;34m)\u001b[0m \u001b[0;31m#Goes through the layers, getting an successful (?) prediction\u001b[0m\u001b[0;34m\u001b[0m\u001b[0;34m\u001b[0m\u001b[0m\n\u001b[0m\u001b[1;32m     18\u001b[0m         \u001b[0merror\u001b[0m \u001b[0;34m=\u001b[0m \u001b[0mcostDerv\u001b[0m\u001b[0;34m(\u001b[0m\u001b[0mactualOutput\u001b[0m\u001b[0;34m[\u001b[0m\u001b[0my\u001b[0m\u001b[0;34m]\u001b[0m\u001b[0;34m,\u001b[0m\u001b[0moutput\u001b[0m\u001b[0;34m)\u001b[0m\u001b[0;34m\u001b[0m\u001b[0;34m\u001b[0m\u001b[0m\n\u001b[1;32m     19\u001b[0m         \u001b[0;32mif\u001b[0m \u001b[0;34m(\u001b[0m\u001b[0mactualOutput\u001b[0m\u001b[0;34m[\u001b[0m\u001b[0my\u001b[0m\u001b[0;34m]\u001b[0m\u001b[0;34m.\u001b[0m\u001b[0margmax\u001b[0m\u001b[0;34m(\u001b[0m\u001b[0;34m)\u001b[0m\u001b[0;34m==\u001b[0m\u001b[0moutput\u001b[0m\u001b[0;34m.\u001b[0m\u001b[0margmax\u001b[0m\u001b[0;34m(\u001b[0m\u001b[0;34m)\u001b[0m\u001b[0;34m)\u001b[0m\u001b[0;34m:\u001b[0m \u001b[0;31m#Success counter\u001b[0m\u001b[0;34m\u001b[0m\u001b[0;34m\u001b[0m\u001b[0m\n",
            "\u001b[0;32m<ipython-input-5-f9d22dcefa2b>\u001b[0m in \u001b[0;36mforward\u001b[0;34m(self, inputData)\u001b[0m\n\u001b[1;32m      5\u001b[0m   \u001b[0;32mdef\u001b[0m \u001b[0mforward\u001b[0m\u001b[0;34m(\u001b[0m\u001b[0mself\u001b[0m\u001b[0;34m,\u001b[0m\u001b[0minputData\u001b[0m\u001b[0;34m)\u001b[0m\u001b[0;34m:\u001b[0m\u001b[0;34m\u001b[0m\u001b[0;34m\u001b[0m\u001b[0m\n\u001b[1;32m      6\u001b[0m     \u001b[0mself\u001b[0m\u001b[0;34m.\u001b[0m\u001b[0minput\u001b[0m \u001b[0;34m=\u001b[0m \u001b[0minputData\u001b[0m\u001b[0;34m\u001b[0m\u001b[0;34m\u001b[0m\u001b[0m\n\u001b[0;32m----> 7\u001b[0;31m     \u001b[0mself\u001b[0m\u001b[0;34m.\u001b[0m\u001b[0moutput\u001b[0m \u001b[0;34m=\u001b[0m \u001b[0msig\u001b[0m\u001b[0;34m(\u001b[0m\u001b[0mnp\u001b[0m\u001b[0;34m.\u001b[0m\u001b[0mdot\u001b[0m\u001b[0;34m(\u001b[0m\u001b[0mself\u001b[0m\u001b[0;34m.\u001b[0m\u001b[0minput\u001b[0m\u001b[0;34m,\u001b[0m \u001b[0mself\u001b[0m\u001b[0;34m.\u001b[0m\u001b[0mweights\u001b[0m\u001b[0;34m)\u001b[0m \u001b[0;34m+\u001b[0m\u001b[0mself\u001b[0m\u001b[0;34m.\u001b[0m\u001b[0mbias\u001b[0m\u001b[0;34m)\u001b[0m \u001b[0;31m#self.output is an o by 1 array of outputs, activated by sig function\u001b[0m\u001b[0;34m\u001b[0m\u001b[0;34m\u001b[0m\u001b[0m\n\u001b[0m\u001b[1;32m      8\u001b[0m     \u001b[0;32mreturn\u001b[0m \u001b[0mself\u001b[0m\u001b[0;34m.\u001b[0m\u001b[0moutput\u001b[0m\u001b[0;34m\u001b[0m\u001b[0;34m\u001b[0m\u001b[0m\n\u001b[1;32m      9\u001b[0m   \u001b[0;32mdef\u001b[0m \u001b[0mbackward\u001b[0m\u001b[0;34m(\u001b[0m\u001b[0mself\u001b[0m\u001b[0;34m,\u001b[0m\u001b[0moutputError\u001b[0m\u001b[0;34m)\u001b[0m\u001b[0;34m:\u001b[0m \u001b[0;31m#Output error is the gradient descent recursively given\u001b[0m\u001b[0;34m\u001b[0m\u001b[0;34m\u001b[0m\u001b[0m\n",
            "\u001b[0;31mKeyboardInterrupt\u001b[0m: "
          ]
        }
      ]
    },
    {
      "cell_type": "code",
      "source": [
        "a=[0]*10\n",
        "# a.insert(9,1)\n",
        "a[9]=1\n",
        "print(a)"
      ],
      "metadata": {
        "id": "8NkAlNhfTvkl"
      },
      "execution_count": null,
      "outputs": []
    }
  ]
}