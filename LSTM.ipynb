{
  "nbformat": 4,
  "nbformat_minor": 0,
  "metadata": {
    "colab": {
      "provenance": [],
      "authorship_tag": "ABX9TyO1NAc0QXXHN6xrZ8n/Olp2",
      "include_colab_link": true
    },
    "kernelspec": {
      "name": "python3",
      "display_name": "Python 3"
    },
    "language_info": {
      "name": "python"
    },
    "accelerator": "TPU"
  },
  "cells": [
    {
      "cell_type": "markdown",
      "metadata": {
        "id": "view-in-github",
        "colab_type": "text"
      },
      "source": [
        "<a href=\"https://colab.research.google.com/github/Jovenstriker/neural-networks/blob/main/LSTM.ipynb\" target=\"_parent\"><img src=\"https://colab.research.google.com/assets/colab-badge.svg\" alt=\"Open In Colab\"/></a>"
      ]
    },
    {
      "cell_type": "code",
      "execution_count": null,
      "metadata": {
        "id": "RPzpekXoT3Qv"
      },
      "outputs": [],
      "source": [
        "import numpy as np\n",
        "import math"
      ]
    },
    {
      "cell_type": "code",
      "source": [
        "def sig(x):\n",
        "  return 1/(1+np.exp(-x))\n",
        "def sigDerv(x):\n",
        "  return sig(x)*(1-sig(x))\n",
        "def tanhDerv(x):\n",
        "  return 1-math.tanh(x)**2\n"
      ],
      "metadata": {
        "id": "MdyWRQwuJmn7"
      },
      "execution_count": null,
      "outputs": []
    },
    {
      "cell_type": "code",
      "source": [
        "class layer:\n",
        "  def __init__(self):\n",
        "    self.forgetInput = np.random.rand()\n",
        "    self.forgetShortInput = np.random.rand()\n",
        "    self.forgetBias = np.random.rand()\n",
        "    self.inputInputSig = np.random.rand()\n",
        "    self.inputShortInputSig = np.random.rand()\n",
        "    self.inputSigBias = np.random.rand()\n",
        "    self.inputInputTanh = np.random.rand()\n",
        "    self.inputShortInputTanh = np.random.rand()\n",
        "    self.inputTanhBias = np.random.rand()\n",
        "    self.outputInput = np.random.rand()\n",
        "    self.outputShortInput = np.random.rand()\n",
        "    self.outputBias = np.random.rand()\n",
        "  def forward(self,input,shortInput,longInput):\n",
        "    self.input = input\n",
        "    self.pastLongInput = longInput\n",
        "    self.pastShortInput = shortInput\n",
        "    self.longInput = longInput\n",
        "    self.shortInput = shortInput #This would be the previous new output, not the predicted value\n",
        "    self.forget = sig(self.shortInput*self.forgetShortInput + self.input*self.forgetInput + self.forgetBias)\n",
        "    #Forget gate\n",
        "    self.longInput *= self.forget\n",
        "    #Input gate\n",
        "    self.longInput+=sig(self.shortInput*self.inputShortInputSig + self.input*self.inputInputSig + self.inputSigBias)*math.tanh(self.shortInput*self.inputShortInputTanh + self.input*self.inputInputTanh + self.inputTanhBias)\n",
        "    #Output gate\n",
        "    self.result = sig(self.shortInput*self.outputShortInput + self.input*self.outputInput + self.outputBias)*math.tanh(self.longInput)\n",
        "    #Result is the new short-term memory\n",
        "    return [self.result,self.longInput]\n"
      ],
      "metadata": {
        "id": "L6Yqe8jkL5F6"
      },
      "execution_count": null,
      "outputs": []
    },
    {
      "cell_type": "code",
      "source": [],
      "metadata": {
        "id": "Aup1MwlidJoV"
      },
      "execution_count": null,
      "outputs": []
    },
    {
      "cell_type": "code",
      "source": [
        "class NeuralNetwork:\n",
        "  def __init__(self,layer):\n",
        "    self.layer = layer\n",
        "\n",
        "  def train(self,input):\n",
        "    predictions = []\n",
        "    for x in range(len(input)-1):\n",
        "      longTerm = 0\n",
        "      lastLongTerm = 0\n",
        "      shortTerm = 0\n",
        "      lastShortTerm = 0\n",
        "      for y in range(x+1):\n",
        "        lastLongTerm = longTerm\n",
        "        lastShortTerm = shortTerm\n",
        "        shortTerm,longTerm = self.layer.forward(input[y],shortTerm,longTerm)\n",
        "      prediction = longTerm #= longTerm\n",
        "      predictions.append(prediction)\n",
        "      error = input[1+x]-prediction\n",
        "      costGradient = 2*(prediction-input[1+x])\n",
        "      #Output gate\n",
        "      dervOutputGate = costGradient*math.tanh(self.layer.longInput)\n",
        "      dervLongTerm = costGradient*self.layer.result*tanhDerv(self.layer.longInput)\n",
        "\n",
        "      #Input gate,\n",
        "      dervInputSig = dervLongTerm * math.tanh(self.layer.shortInput*self.layer.inputShortInputTanh + self.layer.input*self.layer.inputInputTanh + self.layer.inputTanhBias)\n",
        "      dervInputTanh = dervLongTerm * sig(self.layer.shortInput*self.layer.inputShortInputSig + self.layer.input*self.layer.inputInputSig + self.layer.inputSigBias)\n",
        "\n",
        "      #Forget gate\n",
        "      dervForget = dervLongTerm*self.layer.pastLongInput\n",
        "      dervPastLong = dervLongTerm*self.layer.forget #Respect to c(t-1)\n",
        "\n",
        "\n",
        "\n",
        "\n",
        "      #Output gate weights\n",
        "      dervOutputInput = costGradient*math.tanh(self.layer.longInput)* sigDerv(self.layer.shortInput*self.layer.outputShortInput + self.layer.input*self.layer.outputInput + self.layer.outputBias)*self.layer.input\n",
        "      dervOutputShortInput = (dervOutputInput/self.layer.input) *self.layer.pastShortInput\n",
        "      dervOutputBias=dervOutputInput/self.layer.input\n",
        "\n",
        "      #Forget gate weights, o=sig(self.shortInput*self.outputShortInput + self.input*self.outputInput + self.outputBias)\n",
        "      dervForgetBias = costGradient*sig(self.layer.shortInput*self.layer.outputShortInput + self.layer.input*self.layer.outputInput + self.layer.outputBias)*tanhDerv(self.layer.longInput)*self.layer.pastLongInput*sigDerv(self.layer.shortInput*self.layer.forgetShortInput + self.layer.input*self.layer.forgetInput + self.layer.forgetBias)\n",
        "      dervForgetInput= dervForgetBias*self.layer.input\n",
        "      dervForgetShortInput = dervForgetBias*self.layer.pastShortInput\n",
        "      #Input gate weights\n",
        "      #Sig\n",
        "      dervInputBiasSig = costGradient*sig(self.layer.shortInput*self.layer.outputShortInput + self.layer.input*self.layer.outputInput + self.layer.outputBias)*tanhDerv(self.layer.longInput)*math.tanh(self.layer.shortInput*self.layer.inputShortInputTanh + self.layer.input*self.layer.inputInputTanh + self.layer.inputTanhBias) * sigDerv(self.layer.shortInput*self.layer.inputShortInputSig + self.layer.input*self.layer.inputInputSig + self.layer.inputSigBias)\n",
        "      dervInputInputSig= dervInputBiasSig * self.layer.input\n",
        "      dervInputShortInputSig = dervInputBiasSig * self.layer.pastShortInput\n",
        "\n",
        "      #Tanh\n",
        "      dervInputBiasTanh = costGradient*sig(self.layer.shortInput*self.layer.outputShortInput + self.layer.input*self.layer.outputInput + self.layer.outputBias)*tanhDerv(self.layer.longInput)*sig(self.layer.shortInput*self.layer.inputShortInputSig + self.layer.input*self.layer.inputInputSig + self.layer.inputSigBias)*tanhDerv((self.layer.shortInput*self.layer.inputShortInputTanh + self.layer.input*self.layer.inputInputTanh + self.layer.inputTanhBias))\n",
        "      dervInputInputTanh = dervInputBiasTanh*self.layer.input\n",
        "      dervInputShortInputTanh = dervInputBiasTanh * self.layer.pastShortInput\n",
        "\n",
        "      self.layer.forgetInput -= dervForgetInput\n",
        "      self.layer.forgetShortInput -= dervForgetShortInput\n",
        "      self.layer.forgetBias -= dervForgetBias\n",
        "      self.layer.inputInputSig -= dervInputInputSig\n",
        "      self.layer.inputShortInputSig -= dervInputShortInputSig\n",
        "      self.layer.inputSigBias -= dervInputBiasSig\n",
        "      self.layer.inputInputTanh -= dervInputInputTanh\n",
        "      self.layer.inputShortInputTanh -= dervInputShortInputTanh\n",
        "      self.layer.inputTanhBias -=  dervInputBiasTanh\n",
        "      self.layer.outputInput -= dervOutputInput\n",
        "      self.layer.outputShortInput -= dervOutputShortInput\n",
        "      self.layer.outputBias -= dervOutputBias\n",
        "    return predictions\n"
      ],
      "metadata": {
        "id": "zXFGrq8tc63k"
      },
      "execution_count": null,
      "outputs": []
    },
    {
      "cell_type": "code",
      "source": [
        "netLayer= layer()\n",
        "net = NeuralNetwork(netLayer)\n",
        "inputData = []\n",
        "def quadratic(x):\n",
        "  return x*x\n",
        "for i in range(1,100):\n",
        "  inputData.append(i**3)\n",
        "predictions = net.train(inputData)\n",
        "from matplotlib import pyplot as plt\n",
        "print(predictions)\n",
        "plt.plot(predictions,label=\"Prediction\")\n",
        "plt.plot(inputData[:-1], label = \"Actual\")\n",
        "leg = plt.legend(loc='lower center')\n",
        "# plt.yscale('log')\n",
        "plt.show()"
      ],
      "metadata": {
        "id": "Ds6hB64Rf_MH",
        "colab": {
          "base_uri": "https://localhost:8080/",
          "height": 468
        },
        "outputId": "0de63837-d699-4f1d-8474-ff23d8782c24"
      },
      "execution_count": null,
      "outputs": [
        {
          "output_type": "stream",
          "name": "stdout",
          "text": [
            "[0.181417392508651, 1.8931763833181487, 2.8935614802231386, 3.8935614802327256, 4.893561480232726, 5.893561480232726, 6.893561480232726, 7.893561480232726, 8.893561480232727, 9.893561480232727, 10.893561480232727, 11.893561480232727, 12.893561480232727, 13.893561480232727, 14.893561480232727, 15.893561480232727, 16.893561480232727, 17.893561480232727, 18.893561480232727, 19.893561480232727, 20.893561480232727, 21.893561480232727, 22.893561480232727, 23.893561480232727, 24.893561480232727, 25.893561480232727, 26.893561480232727, 27.893561480232727, 28.893561480232727, 29.893561480232727, 30.893561480232727, 31.893561480232727, 32.89356148023273, 33.89356148023273, 34.89356148023273, 35.89356148023273, 36.89356148023273, 37.89356148023273, 38.89356148023273, 39.89356148023273, 40.89356148023273, 41.89356148023273, 42.89356148023273, 43.89356148023273, 44.89356148023273, 45.89356148023273, 46.89356148023273, 47.89356148023273, 48.89356148023273, 49.89356148023273, 50.89356148023273, 51.89356148023273, 52.89356148023273, 53.89356148023273, 54.89356148023273, 55.89356148023273, 56.89356148023273, 57.89356148023273, 58.89356148023273, 59.89356148023273, 60.89356148023273, 61.89356148023273, 62.89356148023273, 63.89356148023273, 64.89356148023273, 65.89356148023273, 66.89356148023273, 67.89356148023273, 68.89356148023273, 69.89356148023273, 70.89356148023273, 71.89356148023273, 72.89356148023273, 73.89356148023273, 74.89356148023273, 75.89356148023273, 76.89356148023273, 77.89356148023273, 78.89356148023273, 79.89356148023273, 80.89356148023273, 81.89356148023273, 82.89356148023273, 83.89356148023273, 84.89356148023273, 85.89356148023273, 86.89356148023273, 87.89356148023273, 88.89356148023273, 89.89356148023273, 90.89356148023273, 91.89356148023273, 92.89356148023273, 93.89356148023273, 94.89356148023273, 95.89356148023273, 96.89356148023273, 97.89356148023273]\n"
          ]
        },
        {
          "output_type": "display_data",
          "data": {
            "text/plain": [
              "<Figure size 640x480 with 1 Axes>"
            ],
            "image/png": "[encoded data removed]"
          },
          "metadata": {}
        }
      ]
    }
  ]
}